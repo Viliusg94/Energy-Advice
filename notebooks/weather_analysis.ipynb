﻿{
 "cells": [
  {
   "cell_type": "markdown",
   "id": "d0352199",
   "metadata": {},
   "source": [
    "# Lietuvos oro duomenÅ³ analizÄ— naudojant meteo.lt API\n",
    "\n",
    "Å is Jupyter notebook demonstruoja iÅsamÅ³ oro duomenÅ³ nuskaitymÄ…, analizÄ™ ir vizualizacijÄ… naudojant Lietuvos hidrometeorologijos tarnybos API.\n",
    "\n",
    "## Turinys\n",
    "1. [Aplinkos paruoÅimas](#1aplinkosparuoÅimas)\n",
    "2. [DuomenÅ³ nuskaitymas](#2duomenÅ³nuskaitymas)\n",
    "3. [DuomenÅ³ analizÄ—](#3duomenÅ³analizÄ—)\n",
    "4. [DuomenÅ³ vizualizacija](#4duomenÅ³vizualizacija)\n",
    "5. [TemperatÅ«ros interpoliacija](#5temperatÅ«rosinterpoliacija)\n",
    "6. [IÅvados](#6iÅvados)"
   ]
  },
  {
   "cell_type": "markdown",
   "id": "f73c2769",
   "metadata": {},
   "source": [
    "## 1. Aplinkos paruoÅimas\n",
    "\n",
    "Importuojame reikalingas bibliotekas ir nustatome parametrus."
   ]
  },
  {
   "cell_type": "code",
   "execution_count": 1,
   "id": "1f035460",
   "metadata": {},
   "outputs": [
    {
     "name": "stdout",
     "output_type": "stream",
     "text": [
      " Bibliotekos sÄ—kmingai importuotos!\n",
      " Python versija: 3.12.7 | packaged by Anaconda, Inc. | (main, Oct  4 2024, 13:17:27) [MSC v.1929 64 bit (AMD64)]\n",
      " Pandas versija: 2.1.4\n",
      " NumPy versija: 1.26.2\n"
     ]
    }
   ],
   "source": [
    "# Importuojame standartines bibliotekas\n",
    "import sys\n",
    "import os\n",
    "from datetime import datetime, timedelta\n",
    "import warnings\n",
    "warnings.filterwarnings('ignore')\n",
    "\n",
    "# DuomenÅ³ manipuliavimo bibliotekos\n",
    "import pandas as pd\n",
    "import numpy as np\n",
    "\n",
    "# Vizualizacijos bibliotekos\n",
    "import matplotlib.pyplot as plt\n",
    "import seaborn as sns\n",
    "\n",
    "# Nustatome matplotlib lietuviÅ³ kalbai\n",
    "plt.rcParams['font.size'] = 12\n",
    "plt.rcParams['figure.figsize'] = (14, 8)\n",
    "plt.style.use('seabornv0_8')\n",
    "\n",
    "# Pridedame src katalogÄ… ÄÆ Python keliÄ…\n",
    "sys.path.append('../src')\n",
    "\n",
    "print(\" Bibliotekos sÄ—kmingai importuotos!\")\n",
    "print(f\" Python versija: {sys.version}\")\n",
    "print(f\" Pandas versija: {pd.__version__}\")\n",
    "print(f\" NumPy versija: {np.__version__}\")"
   ]
  },
  {
   "cell_type": "code",
   "execution_count": 2,
   "id": "a2d2e55b",
   "metadata": {},
   "outputs": [
    {
     "name": "stdout",
     "output_type": "stream",
     "text": [
      " MÅ«sÅ³ oro analizÄ—s moduliai sÄ—kmingai importuoti!\n",
      " Galimi miestai: ['vilnius', 'kaunas', 'klaipeda', 'siauliai', 'panevezys']\n"
     ]
    }
   ],
   "source": [
    "# Importuojame mÅ«sÅ³ sukurtas klases\n",
    "from weather_api import WeatherAPI, CITY_CODES\n",
    "from data_analysis import WeatherAnalyzer\n",
    "from visualization import WeatherVisualizer\n",
    "from interpolation import TemperatureInterpolator\n",
    "\n",
    "print(\" MÅ«sÅ³ oro analizÄ—s moduliai sÄ—kmingai importuoti!\")\n",
    "print(f\" Galimi miestai: {list(CITY_CODES.keys())}\")"
   ]
  },
  {
   "cell_type": "markdown",
   "id": "1bcff923",
   "metadata": {},
   "source": [
    "## 2. DuomenÅ³ nuskaitymas\n",
    "\n",
    "Nuskaitome istorinius ir prognozÄ—s duomenis iÅ meteo.lt API."
   ]
  },
  {
   "cell_type": "code",
   "execution_count": 3,
   "id": "08bda658",
   "metadata": {},
   "outputs": [
    {
     "name": "stdout",
     "output_type": "stream",
     "text": [
      " Weather API inicializuotas miestui: vilnius\n",
      " API URL: https://api.meteo.lt/\n",
      " Laiko zona: Europe/Vilnius\n"
     ]
    }
   ],
   "source": [
    "# Inicializuojame Weather API Vilniui\n",
    "weather_api = WeatherAPI(location_code=\"vilnius\")\n",
    "\n",
    "print(f\" Weather API inicializuotas miestui: {weather_api.location_code}\")\n",
    "print(f\" API URL: {weather_api.base_url}\")\n",
    "print(f\" Laiko zona: {weather_api.timezone}\")"
   ]
  },
  {
   "cell_type": "code",
   "execution_count": 4,
   "id": "cb8e1bae",
   "metadata": {},
   "outputs": [
    {
     "name": "stdout",
     "output_type": "stream",
     "text": [
      " DuomenÅ³ laikotarpis: 20250708 iki 20250807\n",
      "\n",
      " Nuskaitome istorinius duomenis...\n"
     ]
    },
    {
     "name": "stderr",
     "output_type": "stream",
     "text": [
      "ERROR:weather_api:Klaida atliekant API uÅ¾klausÄ…: 404 Client Error: Not Found for url: https://api.meteo.lt/v1/stations/vilnius/observations?observationTimeUtc=20250708%2F20250807\n"
     ]
    },
    {
     "name": "stdout",
     "output_type": "stream",
     "text": [
      " Nepavyko nuskaityti istoriniÅ³ duomenÅ³\n"
     ]
    }
   ],
   "source": [
    "# Nustatome datos intervalÄ… (paskutinÄ—s 30 dienÅ³)\n",
    "end_date = datetime.now().strftime(\"%Y%m%d\")\n",
    "start_date = (datetime.now()  timedelta(days=30)).strftime(\"%Y%m%d\")\n",
    "\n",
    "print(f\" DuomenÅ³ laikotarpis: {start_date} iki {end_date}\")\n",
    "\n",
    "# Nuskaitome istorinius duomenis\n",
    "print(\"\\n Nuskaitome istorinius duomenis...\")\n",
    "historical_data = weather_api.get_historical_data(start_date, end_date)\n",
    "\n",
    "if historical_data is not None and not historical_data.empty:\n",
    "    print(f\" SÄ—kmingai nuskaityti istoriniai duomenys: {len(historical_data)} ÄÆraÅÅ³\")\n",
    "    print(f\" DuomenÅ³ stulpeliai: {list(historical_data.columns)}\")\n",
    "    print(f\" DuomenÅ³ intervalas: {historical_data.index.min()}  {historical_data.index.max()}\")\n",
    "else:\n",
    "    print(\" Nepavyko nuskaityti istoriniÅ³ duomenÅ³\")"
   ]
  },
  {
   "cell_type": "code",
   "execution_count": 5,
   "id": "d9572d5a",
   "metadata": {},
   "outputs": [
    {
     "name": "stdout",
     "output_type": "stream",
     "text": [
      " NÄ—ra istoriniÅ³ duomenÅ³ rodymui\n"
     ]
    }
   ],
   "source": [
    "# PerÅ¾iÅ«rime istoriniÅ³ duomenÅ³ pavyzdÄÆ\n",
    "if historical_data is not None and not historical_data.empty:\n",
    "    print(\" Pirmieji 5 istoriniai ÄÆraÅai:\")\n",
    "    display(historical_data.head())\n",
    "    \n",
    "    print(\"\\n DuomenÅ³ statistika:\")\n",
    "    display(historical_data.describe())\n",
    "    \n",
    "    print(\"\\n TrÅ«kstamÅ³ duomenÅ³ informacija:\")\n",
    "    missing_data = historical_data.isnull().sum()\n",
    "    print(missing_data[missing_data > 0])\n",
    "else:\n",
    "    print(\" NÄ—ra istoriniÅ³ duomenÅ³ rodymui\")"
   ]
  },
  {
   "cell_type": "code",
   "execution_count": 6,
   "id": "218311d9",
   "metadata": {},
   "outputs": [
    {
     "name": "stdout",
     "output_type": "stream",
     "text": [
      " Nuskaitome prognozÄ—s duomenis...\n"
     ]
    },
    {
     "name": "stderr",
     "output_type": "stream",
     "text": [
      "ERROR:weather_api:Klaida gaunant prognozÄ—s duomenis: Cannot convert tznaive timestamps, use tz_localize to localize\n"
     ]
    },
    {
     "name": "stdout",
     "output_type": "stream",
     "text": [
      " Nepavyko nuskaityti prognozÄ—s duomenÅ³\n"
     ]
    }
   ],
   "source": [
    "# Nuskaitome prognozÄ—s duomenis\n",
    "print(\" Nuskaitome prognozÄ—s duomenis...\")\n",
    "forecast_data = weather_api.get_forecast_data()\n",
    "\n",
    "if forecast_data is not None and not forecast_data.empty:\n",
    "    print(f\" SÄ—kmingai nuskaityti prognozÄ—s duomenys: {len(forecast_data)} ÄÆraÅÅ³\")\n",
    "    print(f\" PrognozÄ—s stulpeliai: {list(forecast_data.columns)}\")\n",
    "    print(f\" PrognozÄ—s intervalas: {forecast_data.index.min()}  {forecast_data.index.max()}\")\n",
    "    \n",
    "    print(\"\\n Pirmieji 5 prognozÄ—s ÄÆraÅai:\")\n",
    "    display(forecast_data.head())\n",
    "else:\n",
    "    print(\" Nepavyko nuskaityti prognozÄ—s duomenÅ³\")\n",
    "    forecast_data = None"
   ]
  },
  {
   "cell_type": "markdown",
   "id": "d8990dc6",
   "metadata": {},
   "source": [
    "## 3. DuomenÅ³ analizÄ—\n",
    "\n",
    "Atliekame iÅsamiÄ… oro duomenÅ³ analizÄ™."
   ]
  },
  {
   "cell_type": "code",
   "execution_count": 7,
   "id": "cf39a1e8",
   "metadata": {},
   "outputs": [
    {
     "name": "stdout",
     "output_type": "stream",
     "text": [
      " Negalima inicializuoti analizÄ—s be istoriniÅ³ duomenÅ³\n"
     ]
    }
   ],
   "source": [
    "# Inicializuojame analizÄ—s klasÄ™\n",
    "if historical_data is not None:\n",
    "    analyzer = WeatherAnalyzer(historical_data, forecast_data)\n",
    "    print(\" WeatherAnalyzer sÄ—kmingai inicializuotas!\")\n",
    "    \n",
    "    # Jei turime ir istorinius ir prognozÄ—s duomenis, sujungiame juos\n",
    "    if forecast_data is not None:\n",
    "        combined_data = analyzer.combine_data()\n",
    "        if not combined_data.empty:\n",
    "            print(f\" Duomenys sÄ—kmingai sujungti: {len(combined_data)} ÄÆraÅÅ³\")\n",
    "        else:\n",
    "            print(\" Nepavyko sujungti duomenÅ³  nÄ—ra bendrÅ³ stulpeliÅ³\")\n",
    "else:\n",
    "    print(\" Negalima inicializuoti analizÄ—s be istoriniÅ³ duomenÅ³\")\n",
    "    analyzer = None"
   ]
  },
  {
   "cell_type": "code",
   "execution_count": 8,
   "id": "6faeaf8c",
   "metadata": {},
   "outputs": [],
   "source": [
    "# ApskaiÄ¨iuojame metinius vidurkius\n",
    "if analyzer is not None:\n",
    "    print(\" SkaiÄ¨iuojame metinius vidurkius...\")\n",
    "    annual_averages = analyzer.calculate_annual_averages()\n",
    "    \n",
    "    if annual_averages:\n",
    "        print(\"\\n METINIAI VIDURKIAI:\")\n",
    "        print(\"=\"*40)\n",
    "        for key, value in annual_averages.items():\n",
    "            formatted_key = key.replace('_', ' ').title()\n",
    "            if 'temperature' in key.lower():\n",
    "                print(f\" {formatted_key}: {value:.1f}Ā°C\")\n",
    "            elif 'humidity' in key.lower():\n",
    "                print(f\" {formatted_key}: {value:.1f}%\")\n",
    "            elif 'wind' in key.lower():\n",
    "                print(f\" {formatted_key}: {value:.1f} m/s\")\n",
    "            elif 'pressure' in key.lower():\n",
    "                print(f\" {formatted_key}: {value:.1f} hPa\")\n",
    "            else:\n",
    "                print(f\" {formatted_key}: {value:.2f}\")\n",
    "    else:\n",
    "        print(\" Nepavyko apskaiÄ¨iuoti metiniÅ³ vidurkiÅ³\")"
   ]
  },
  {
   "cell_type": "code",
   "execution_count": 9,
   "id": "573773dc",
   "metadata": {},
   "outputs": [],
   "source": [
    "# Analizuojame dienos ir nakties temperatÅ«ros skirtumus\n",
    "if analyzer is not None:\n",
    "    print(\" Analizuojame dienos ir nakties temperatÅ«ros skirtumus...\")\n",
    "    day_night_analysis = analyzer.analyze_day_night_temperature()\n",
    "    \n",
    "    if day_night_analysis:\n",
    "        print(\"\\n DIENOS/NAKTIES TEMPERATÅŖROS ANALIZÄ–:\")\n",
    "        print(\"=\"*45)\n",
    "        for key, value in day_night_analysis.items():\n",
    "            formatted_key = key.replace('_', ' ').title()\n",
    "            if 'day' in key.lower():\n",
    "                print(f\" {formatted_key}: {value:.1f}Ā°C\")\n",
    "            elif 'night' in key.lower():\n",
    "                print(f\" {formatted_key}: {value:.1f}Ā°C\")\n",
    "            elif 'difference' in key.lower():\n",
    "                print(f\" {formatted_key}: {value:.1f}Ā°C\")\n",
    "                if value > 0:\n",
    "                    print(\"    DienÄ… ÅilÄ¨iau nei naktÄÆ\")\n",
    "                else:\n",
    "                    print(\"    NaktÄÆ ÅilÄ¨iau nei dienÄ…\")\n",
    "    else:\n",
    "        print(\" Nepavyko apskaiÄ¨iuoti dienos/nakties temperatÅ«ros skirtumÅ³\")"
   ]
  },
  {
   "cell_type": "code",
   "execution_count": 10,
   "id": "a99a72c4",
   "metadata": {},
   "outputs": [
    {
     "name": "stdout",
     "output_type": "stream",
     "text": [
      " Praleista savaitgaliÅ³ lietaus analizÄ—  nÄ—ra prognozÄ—s duomenÅ³\n"
     ]
    }
   ],
   "source": [
    "# Analizuojame savaitgaliÅ³ lietaus prognozes (jei turime prognozÄ—s duomenÅ³)\n",
    "if analyzer is not None and forecast_data is not None:\n",
    "    print(\" Analizuojame savaitgaliÅ³ lietaus prognozes...\")\n",
    "    weekend_rain = analyzer.analyze_weekend_rain_forecast()\n",
    "    \n",
    "    if weekend_rain:\n",
    "        print(\"\\nSAVAITGALIÅ² LIETAUS PROGNOZÄ–:\")\n",
    "        print(\"=\"*35)\n",
    "        for key, value in weekend_rain.items():\n",
    "            formatted_key = key.replace('_', ' ').title()\n",
    "            if 'probability' in key.lower():\n",
    "                print(f\" {formatted_key}: {value:.1f}%\")\n",
    "                if value > 50:\n",
    "                    print(\"    DidelÄ— lietaus tikimybÄ— savaitgaliais\")\n",
    "                elif value > 25:\n",
    "                    print(\"    VidutinÄ— lietaus tikimybÄ— savaitgaliais\")\n",
    "                else:\n",
    "                    print(\"    MaÅ¾a lietaus tikimybÄ— savaitgaliais\")\n",
    "            else:\n",
    "                print(f\" {formatted_key}: {value}\")\n",
    "    else:\n",
    "        print(\" Nepavyko apskaiÄ¨iuoti savaitgaliÅ³ lietaus prognozÄ—s\")\n",
    "else:\n",
    "    print(\" Praleista savaitgaliÅ³ lietaus analizÄ—  nÄ—ra prognozÄ—s duomenÅ³\")\n",
    "    weekend_rain = {}"
   ]
  },
  {
   "cell_type": "markdown",
   "id": "d14f7fe6",
   "metadata": {},
   "source": [
    "## 4. DuomenÅ³ vizualizacija\n",
    "\n",
    "Sukuriame ÄÆvairius grafikus oro duomenÅ³ vizualizacijai."
   ]
  },
  {
   "cell_type": "code",
   "execution_count": 11,
   "id": "f9d178c7",
   "metadata": {},
   "outputs": [
    {
     "name": "stdout",
     "output_type": "stream",
     "text": [
      " WeatherVisualizer inicializuotas!\n"
     ]
    }
   ],
   "source": [
    "# Inicializuojame vizualizacijos klasÄ™\n",
    "visualizer = WeatherVisualizer(\"../plots\")\n",
    "print(\" WeatherVisualizer inicializuotas!\")"
   ]
  },
  {
   "cell_type": "code",
   "execution_count": 12,
   "id": "41030ce4",
   "metadata": {},
   "outputs": [],
   "source": [
    "# Sukuriame paskutinÄ—s savaitÄ—s duomenÅ³ grafikÄ…\n",
    "if analyzer is not None:\n",
    "    print(\" Kuriame temperatÅ«ros tendencijos grafikÄ…...\")\n",
    "    \n",
    "    # Gauname paskutinÄ—s savaitÄ—s duomenis\n",
    "    last_week_data = analyzer.get_last_week_data()\n",
    "    \n",
    "    if not last_week_data.empty:\n",
    "        # Sukuriame temperatÅ«ros grafikÄ…\n",
    "        plt.figure(figsize=(16, 8))\n",
    "        \n",
    "        # BraiÅ¾ome istorinius duomenis\n",
    "        if 'airTemperature' in last_week_data.columns:\n",
    "            plt.plot(last_week_data.index, last_week_data['airTemperature'], \n",
    "                    label='Istoriniai duomenys', color='blue', linewidth=2, marker='o', markersize=4)\n",
    "        \n",
    "        # BraiÅ¾ome prognozÄ—s duomenis jei yra\n",
    "        if forecast_data is not None and not forecast_data.empty:\n",
    "            temp_col = None\n",
    "            for col in ['airTemperature', 'temperature', 'temp']:\n",
    "                if col in forecast_data.columns:\n",
    "                    temp_col = col\n",
    "                    break\n",
    "            \n",
    "            if temp_col:\n",
    "                plt.plot(forecast_data.index, forecast_data[temp_col], \n",
    "                        label='PrognozÄ—', color='red', linewidth=2, linestyle='', marker='s', markersize=4)\n",
    "        \n",
    "        plt.title('TemperatÅ«ros kaita (paskutinÄ— savaitÄ— + prognozÄ—)', fontsize=16, fontweight='bold')\n",
    "        plt.xlabel('Data ir laikas', fontsize=12)\n",
    "        plt.ylabel('TemperatÅ«ra (Ā°C)', fontsize=12)\n",
    "        plt.legend(fontsize=12)\n",
    "        plt.grid(True, alpha=0.3)\n",
    "        plt.xticks(rotation=45)\n",
    "        plt.tight_layout()\n",
    "        plt.show()\n",
    "        \n",
    "        print(f\" TemperatÅ«ros grafikas rodomas! ({len(last_week_data)} duomenÅ³ taÅkai)\")\n",
    "    else:\n",
    "        print(\" NÄ—ra paskutinÄ—s savaitÄ—s duomenÅ³ grafiko kÅ«rimui\")"
   ]
  },
  {
   "cell_type": "code",
   "execution_count": 13,
   "id": "b1863dd3",
   "metadata": {},
   "outputs": [
    {
     "name": "stdout",
     "output_type": "stream",
     "text": [
      " Negalima sukurti oro sÄ…lygÅ³ suvestinÄ—s  nÄ—ra duomenÅ³\n"
     ]
    }
   ],
   "source": [
    "# Sukuriame oro sÄ…lygÅ³ suvestinÄ™\n",
    "if analyzer is not None and not last_week_data.empty:\n",
    "    print(\" Kuriame oro sÄ…lygÅ³ suvestinÄ—s grafikÄ…...\")\n",
    "    \n",
    "    # Sukuriame 2x2 subplot'Å³ schemÄ…\n",
    "    fig, axes = plt.subplots(2, 2, figsize=(18, 12))\n",
    "    fig.suptitle('Oro sÄ…lygÅ³ suvestinÄ— (paskutinÄ— savaitÄ—)', fontsize=18, fontweight='bold')\n",
    "    \n",
    "    # 1. TemperatÅ«ros grafikas\n",
    "    if 'airTemperature' in last_week_data.columns:\n",
    "        axes[0, 0].plot(last_week_data.index, last_week_data['airTemperature'], \n",
    "                       color='red', linewidth=2, marker='o', markersize=3)\n",
    "        axes[0, 0].set_title(' TemperatÅ«ra', fontsize=14, fontweight='bold')\n",
    "        axes[0, 0].set_ylabel('Ā°C', fontsize=12)\n",
    "        axes[0, 0].grid(True, alpha=0.3)\n",
    "        axes[0, 0].tick_params(axis='x', rotation=45)\n",
    "    \n",
    "    # 2. DrÄ—gmÄ—s grafikas\n",
    "    if 'relativeHumidity' in last_week_data.columns:\n",
    "        axes[0, 1].plot(last_week_data.index, last_week_data['relativeHumidity'], \n",
    "                       color='blue', linewidth=2, marker='s', markersize=3)\n",
    "        axes[0, 1].set_title(' SantykinÄ— drÄ—gmÄ—', fontsize=14, fontweight='bold')\n",
    "        axes[0, 1].set_ylabel('%', fontsize=12)\n",
    "        axes[0, 1].grid(True, alpha=0.3)\n",
    "        axes[0, 1].tick_params(axis='x', rotation=45)\n",
    "    \n",
    "    # 3. VÄ—jo greiÄ¨io grafikas\n",
    "    if 'windSpeed' in last_week_data.columns:\n",
    "        axes[1, 0].plot(last_week_data.index, last_week_data['windSpeed'], \n",
    "                       color='green', linewidth=2, marker='^', markersize=3)\n",
    "        axes[1, 0].set_title(' VÄ—jo greitis', fontsize=14, fontweight='bold')\n",
    "        axes[1, 0].set_ylabel('m/s', fontsize=12)\n",
    "        axes[1, 0].grid(True, alpha=0.3)\n",
    "        axes[1, 0].tick_params(axis='x', rotation=45)\n",
    "    \n",
    "    # 4. SlÄ—gio grafikas\n",
    "    if 'seaLevelPressure' in last_week_data.columns:\n",
    "        axes[1, 1].plot(last_week_data.index, last_week_data['seaLevelPressure'], \n",
    "                       color='purple', linewidth=2, marker='d', markersize=3)\n",
    "        axes[1, 1].set_title(' JÅ«ros lygio slÄ—gis', fontsize=14, fontweight='bold')\n",
    "        axes[1, 1].set_ylabel('hPa', fontsize=12)\n",
    "        axes[1, 1].grid(True, alpha=0.3)\n",
    "        axes[1, 1].tick_params(axis='x', rotation=45)\n",
    "    \n",
    "    plt.tight_layout()\n",
    "    plt.show()\n",
    "    \n",
    "    print(\" Oro sÄ…lygÅ³ suvestinÄ— sÄ—kmingai sukurta!\")\n",
    "else:\n",
    "    print(\" Negalima sukurti oro sÄ…lygÅ³ suvestinÄ—s  nÄ—ra duomenÅ³\")"
   ]
  },
  {
   "cell_type": "code",
   "execution_count": 14,
   "id": "7690d91d",
   "metadata": {},
   "outputs": [],
   "source": [
    "# Sukuriame koreliacijos matricÄ…\n",
    "if analyzer is not None and not historical_data.empty:\n",
    "    print(\" Kuriame oro parametrÅ³ koreliacijos matricÄ…...\")\n",
    "    \n",
    "    # IÅfiltruojame tik skaitinius stulpelius\n",
    "    numeric_data = historical_data.select_dtypes(include=[np.number])\n",
    "    \n",
    "    if not numeric_data.empty and len(numeric_data.columns) > 1:\n",
    "        plt.figure(figsize=(12, 10))\n",
    "        \n",
    "        # SkaiÄ¨iuojame koreliacijÄ…\n",
    "        correlation_matrix = numeric_data.corr()\n",
    "        \n",
    "        # Sukuriame heatmap\n",
    "        mask = np.triu(np.ones_like(correlation_matrix, dtype=bool))\n",
    "        sns.heatmap(correlation_matrix, \n",
    "                   mask=mask,\n",
    "                   annot=True, \n",
    "                   cmap='coolwarm', \n",
    "                   center=0,\n",
    "                   square=True,\n",
    "                   linewidths=0.5,\n",
    "                   cbar_kws={\"shrink\": .8},\n",
    "                   fmt='.2f')\n",
    "        \n",
    "        plt.title(' Oro parametrÅ³ koreliacijos matrica', fontsize=16, fontweight='bold')\n",
    "        plt.tight_layout()\n",
    "        plt.show()\n",
    "        \n",
    "        print(\" Koreliacijos matrica sÄ—kmingai sukurta!\")\n",
    "        \n",
    "        # IÅspausdiname stipriausias koreliacijas\n",
    "        print(\"\\n STIPRIAUSIOS KORELIACIJOS:\")\n",
    "        print(\"=\"*30)\n",
    "        \n",
    "        # Randame stipriausias koreliacijas (ne diagonalÄ—s)\n",
    "        correlations = []\n",
    "        for i in range(len(correlation_matrix.columns)):\n",
    "            for j in range(i+1, len(correlation_matrix.columns)):\n",
    "                corr_value = correlation_matrix.iloc[i, j]\n",
    "                if not np.isnan(corr_value):\n",
    "                    correlations.append((\n",
    "                        correlation_matrix.columns[i],\n",
    "                        correlation_matrix.columns[j],\n",
    "                        abs(corr_value),\n",
    "                        corr_value\n",
    "                    ))\n",
    "        \n",
    "        # RÅ«Åiuojame pagal stiprumÄ…\n",
    "        correlations.sort(key=lambda x: x[2], reverse=True)\n",
    "        \n",
    "        # Spausdiname top 5\n",
    "        for i, (var1, var2, abs_corr, corr) in enumerate(correlations[:5]):\n",
    "            direction = \"\" if corr > 0 else \"\"\n",
    "            print(f\"{direction} {var1} ā†” {var2}: {corr:.3f}\")\n",
    "    else:\n",
    "        print(\"ā ļø¸ Nepakanka skaitiniÅ³ duomenÅ³ koreliacijos matricai\")"
   ]
  },
  {
   "cell_type": "markdown",
   "id": "c59aa098",
   "metadata": {},
   "source": [
    "## 5. TemperatÅ«ros interpoliacija\n",
    "\n",
    "Demonstruojame temperatÅ«ros duomenÅ³ interpoliacijÄ… iki aukÅtesnio daÅ¾nio."
   ]
  },
  {
   "cell_type": "code",
   "execution_count": 15,
   "id": "fb02b27c",
   "metadata": {},
   "outputs": [
    {
     "name": "stdout",
     "output_type": "stream",
     "text": [
      " TemperatureInterpolator inicializuotas!\n",
      " Palaikomi metodai: ['linear', 'time', 'polynomial', 'spline']\n"
     ]
    }
   ],
   "source": [
    "# Inicializuojame interpoliacijos klasÄ™\n",
    "interpolator = TemperatureInterpolator()\n",
    "print(f\" TemperatureInterpolator inicializuotas!\")\n",
    "print(f\" Palaikomi metodai: {interpolator.supported_methods}\")"
   ]
  },
  {
   "cell_type": "code",
   "execution_count": 16,
   "id": "f046d3da",
   "metadata": {},
   "outputs": [
    {
     "name": "stdout",
     "output_type": "stream",
     "text": [
      " Negalima atlikti interpoliacijos  nÄ—ra temperatÅ«ros duomenÅ³\n"
     ]
    }
   ],
   "source": [
    "# Pasiimame paskutinÄ—s dienos temperatÅ«ros duomenis interpoliacijai\n",
    "if analyzer is not None and 'airTemperature' in historical_data.columns:\n",
    "    print(\" RuoÅiame duomenis interpoliacijai...\")\n",
    "    \n",
    "    # Pasiimame paskutinÄ—s 24 valandÅ³ duomenis\n",
    "    last_24h_data = historical_data.tail(24)\n",
    "    temp_series = last_24h_data['airTemperature'].dropna()\n",
    "    \n",
    "    if not temp_series.empty:\n",
    "        print(f\" OriginalÅ«s duomenys: {len(temp_series)} taÅkai\")\n",
    "        print(f\" Laikotarpis: {temp_series.index.min()}  {temp_series.index.max()}\")\n",
    "        print(f\" TemperatÅ«ros diapazonas: {temp_series.min():.1f}Ā°C  {temp_series.max():.1f}Ā°C\")\n",
    "        \n",
    "        # Parodome originaliÅ³ duomenÅ³ grafikÄ…\n",
    "        plt.figure(figsize=(15, 6))\n",
    "        plt.plot(temp_series.index, temp_series.values, 'o', \n",
    "                linewidth=2, markersize=6, color='blue', label='OriginalÅ«s duomenys')\n",
    "        plt.title(' OriginalÅ«s temperatÅ«ros duomenys (paskutinÄ—s 24h)', fontsize=14, fontweight='bold')\n",
    "        plt.xlabel('Laikas', fontsize=12)\n",
    "        plt.ylabel('TemperatÅ«ra (Ā°C)', fontsize=12)\n",
    "        plt.legend()\n",
    "        plt.grid(True, alpha=0.3)\n",
    "        plt.xticks(rotation=45)\n",
    "        plt.tight_layout()\n",
    "        plt.show()\n",
    "    else:\n",
    "        print(\" NÄ—ra temperatÅ«ros duomenÅ³ interpoliacijai\")\n",
    "        temp_series = None\n",
    "else:\n",
    "    print(\" Negalima atlikti interpoliacijos  nÄ—ra temperatÅ«ros duomenÅ³\")\n",
    "    temp_series = None"
   ]
  },
  {
   "cell_type": "code",
   "execution_count": 17,
   "id": "3a1ca040",
   "metadata": {},
   "outputs": [
    {
     "name": "stdout",
     "output_type": "stream",
     "text": [
      " Praleista interpoliacija  nÄ—ra tinkamÅ³ duomenÅ³\n"
     ]
    }
   ],
   "source": [
    "# Atliekame interpoliacijÄ… su statistika\n",
    "if temp_series is not None and not temp_series.empty:\n",
    "    print(\" Atliekame temperatÅ«ros interpoliacijÄ…...\")\n",
    "    \n",
    "    # Interpoliuojame iki 5 minuÄ¨iÅ³ daÅ¾nio\n",
    "    interpolation_stats = interpolator.interpolate_with_statistics(\n",
    "        temp_series, \n",
    "        target_frequency='5T',  # 5 minutÄ—s\n",
    "        method='linear'\n",
    "    )\n",
    "    \n",
    "    if interpolation_stats['interpolated_data'] is not None:\n",
    "        interpolated_series = interpolation_stats['interpolated_data']\n",
    "        \n",
    "        print(\"\\n INTERPOLIACIJOS REZULTATAI:\")\n",
    "        print(\"=\"*35)\n",
    "        print(f\" OriginalÅ«s taÅkai: {interpolation_stats['original_points']}\")\n",
    "        print(f\" Interpoliuoti taÅkai: {interpolation_stats['interpolated_points']}\")\n",
    "        print(f\" PagerÄ—jimo santykis: {interpolation_stats['improvement_ratio']:.1f}x\")\n",
    "        print(f\" Metodas: {interpolation_stats['method']}\")\n",
    "        print(f\" DaÅ¾nis: {interpolation_stats['frequency']}\")\n",
    "        \n",
    "        # Statistikos palyginimas\n",
    "        print(\"\\n STATISTIKOS PALYGINIMAS:\")\n",
    "        print(\"=\"*30)\n",
    "        print(f\"OriginalÅ«s duomenys:\")\n",
    "        print(f\"   Vidurkis: {interpolation_stats['original_mean']:.2f}Ā°C\")\n",
    "        print(f\"   Min: {interpolation_stats['original_min']:.2f}Ā°C\")\n",
    "        print(f\"   Max: {interpolation_stats['original_max']:.2f}Ā°C\")\n",
    "        \n",
    "        print(f\"Interpoliuoti duomenys:\")\n",
    "        print(f\"   Vidurkis: {interpolation_stats['interpolated_mean']:.2f}Ā°C\")\n",
    "        print(f\"   Min: {interpolation_stats['interpolated_min']:.2f}Ā°C\")\n",
    "        print(f\"   Max: {interpolation_stats['interpolated_max']:.2f}Ā°C\")\n",
    "        \n",
    "        mean_diff = abs(interpolation_stats['original_mean']  interpolation_stats['interpolated_mean'])\n",
    "        print(f\"\\n VidurkiÅ³ skirtumas: {mean_diff:.3f}Ā°C\")\n",
    "        \n",
    "    else:\n",
    "        print(\" Interpoliacija nepavyko\")\n",
    "        interpolated_series = None\n",
    "else:\n",
    "    print(\" Praleista interpoliacija  nÄ—ra tinkamÅ³ duomenÅ³\")\n",
    "    interpolated_series = None"
   ]
  },
  {
   "cell_type": "code",
   "execution_count": 18,
   "id": "195ef8fb",
   "metadata": {},
   "outputs": [
    {
     "name": "stdout",
     "output_type": "stream",
     "text": [
      " Negalima vizualizuoti interpoliacijos  nÄ—ra duomenÅ³\n"
     ]
    }
   ],
   "source": [
    "# Vizualizuojame interpoliacijos rezultatus\n",
    "if temp_series is not None and interpolated_series is not None:\n",
    "    print(\" Vizualizuojame interpoliacijos rezultatus...\")\n",
    "    \n",
    "    plt.figure(figsize=(18, 10))\n",
    "    \n",
    "    # Sukuriame 2 subplot'us\n",
    "    gs = plt.GridSpec(2, 1, height_ratios=[2, 1])\n",
    "    \n",
    "    # VirÅutinis grafikas  palyginimas\n",
    "    ax1 = plt.subplot(gs[0])\n",
    "    \n",
    "    # BraiÅ¾ome originalius duomenis\n",
    "    ax1.plot(temp_series.index, temp_series.values, 'o', \n",
    "            linewidth=3, markersize=8, color='blue', \n",
    "            label=f'OriginalÅ«s duomenys ({len(temp_series)} taÅkai)', alpha=0.8)\n",
    "    \n",
    "    # BraiÅ¾ome interpoliuotus duomenis\n",
    "    ax1.plot(interpolated_series.index, interpolated_series.values, '', \n",
    "            linewidth=1, color='red', alpha=0.7,\n",
    "            label=f'Interpoliuoti duomenys ({len(interpolated_series)} taÅkai)')\n",
    "    \n",
    "    ax1.set_title(' TemperatÅ«ros interpoliacijos palyginimas', fontsize=16, fontweight='bold')\n",
    "    ax1.set_ylabel('TemperatÅ«ra (Ā°C)', fontsize=12)\n",
    "    ax1.legend(fontsize=12)\n",
    "    ax1.grid(True, alpha=0.3)\n",
    "    ax1.tick_params(axis='x', rotation=45)\n",
    "    \n",
    "    # Apatinis grafikas  interpoliacijos tankumas\n",
    "    ax2 = plt.subplot(gs[1])\n",
    "    \n",
    "    # SkaiÄ¨iuojame duomenÅ³ tankumÄ…\n",
    "    orig_intervals = temp_series.index.to_series().diff().dt.total_seconds() / 60  # minutÄ—s\n",
    "    interp_intervals = interpolated_series.index.to_series().diff().dt.total_seconds() / 60  # minutÄ—s\n",
    "    \n",
    "    if len(orig_intervals) > 1 and len(interp_intervals) > 1:\n",
    "        ax2.hist(orig_intervals.dropna(), bins=10, alpha=0.7, color='blue', \n",
    "                label=f'OriginalÅ«s intervalai (vid: {orig_intervals.mean():.0f} min)')\n",
    "        ax2.hist(interp_intervals.dropna(), bins=20, alpha=0.7, color='red', \n",
    "                label=f'Interpoliuoti intervalai (vid: {interp_intervals.mean():.0f} min)')\n",
    "        \n",
    "        ax2.set_title(' DuomenÅ³ intervalÅ³ pasiskirstymas', fontsize=14, fontweight='bold')\n",
    "        ax2.set_xlabel('Intervalas (minutÄ—s)', fontsize=12)\n",
    "        ax2.set_ylabel('DaÅ¾nis', fontsize=12)\n",
    "        ax2.legend(fontsize=10)\n",
    "        ax2.grid(True, alpha=0.3)\n",
    "    \n",
    "    plt.tight_layout()\n",
    "    plt.show()\n",
    "    \n",
    "    print(\" Interpoliacijos vizualizacija sÄ—kmingai sukurta!\")\n",
    "else:\n",
    "    print(\" Negalima vizualizuoti interpoliacijos  nÄ—ra duomenÅ³\")"
   ]
  },
  {
   "cell_type": "code",
   "execution_count": 19,
   "id": "a145d525",
   "metadata": {},
   "outputs": [
    {
     "name": "stdout",
     "output_type": "stream",
     "text": [
      " Praleistas metodÅ³ palyginimas  nepakanka duomenÅ³\n"
     ]
    }
   ],
   "source": [
    "# Palyginame skirtingus interpoliacijos metodus\n",
    "if temp_series is not None and len(temp_series) > 3:\n",
    "    print(\" Lyginame skirtingus interpoliacijos metodus...\")\n",
    "    \n",
    "    methods_comparison = interpolator.compare_interpolation_methods(\n",
    "        temp_series,\n",
    "        target_frequency='10T'  # 10 minuÄ¨iÅ³ daÅ¾nis\n",
    "    )\n",
    "    \n",
    "    if methods_comparison and 'methods' in methods_comparison:\n",
    "        print(\"\\n INTERPOLIACIJOS METODÅ² PALYGINIMAS:\")\n",
    "        print(\"=\"*45)\n",
    "        \n",
    "        # Sukuriame palyginimo lentelÄ™\n",
    "        comparison_data = []\n",
    "        \n",
    "        for method, stats in methods_comparison['methods'].items():\n",
    "            if stats['interpolated_data'] is not None:\n",
    "                comparison_data.append({\n",
    "                    'Metodas': method.title(),\n",
    "                    'OriginalÅ«s taÅkai': stats['original_points'],\n",
    "                    'Interpoliuoti taÅkai': stats['interpolated_points'],\n",
    "                    'PagerÄ—jimas': f\"{stats['improvement_ratio']:.1f}x\",\n",
    "                    'Vidurkis (Ā°C)': f\"{stats.get('interpolated_mean', 0):.2f}\"\n",
    "                })\n",
    "        \n",
    "        if comparison_data:\n",
    "            comparison_df = pd.DataFrame(comparison_data)\n",
    "            display(comparison_df)\n",
    "            \n",
    "            print(f\"\\n Rekomenduojamas metodas: {methods_comparison.get('recommended_method', 'linear').title()}\")\n",
    "        else:\n",
    "            print(\" Nepavyko palyginti metodÅ³\")\n",
    "    else:\n",
    "        print(\" Nepavyko atlikti metodÅ³ palyginimo\")\n",
    "else:\n",
    "    print(\" Praleistas metodÅ³ palyginimas  nepakanka duomenÅ³\")"
   ]
  },
  {
   "cell_type": "markdown",
   "id": "b44cb9d8",
   "metadata": {},
   "source": [
    "## 6. IÅvados\n",
    "\n",
    "Apibendriname oro duomenÅ³ analizÄ—s rezultatus."
   ]
  },
  {
   "cell_type": "code",
   "execution_count": 20,
   "id": "230bcc74",
   "metadata": {},
   "outputs": [
    {
     "name": "stdout",
     "output_type": "stream",
     "text": [
      " LIETUVOS ORO DUOMENÅ² ANALIZÄ–S IÅ VADOS\n",
      "==================================================\n",
      " Nepavyko atlikti analizÄ—s  trÅ«ksta duomenÅ³\n",
      "==================================================\n"
     ]
    }
   ],
   "source": [
    "# Sukuriame galutinÄ™ analizÄ—s suvestinÄ™\n",
    "print(\" LIETUVOS ORO DUOMENÅ² ANALIZÄ–S IÅ VADOS\")\n",
    "print(\"=\"*50)\n",
    "\n",
    "if analyzer is not None:\n",
    "    # DuomenÅ³ apimties informacija\n",
    "    if historical_data is not None:\n",
    "        print(f\"\\n DUOMENÅ² APIMTIS:\")\n",
    "        print(f\"    Miestas: {weather_api.location_code.title()}\")\n",
    "        print(f\"    Laikotarpis: {start_date}  {end_date}\")\n",
    "        print(f\"    IstoriniÅ³ ÄÆraÅÅ³: {len(historical_data)}\")\n",
    "        if forecast_data is not None:\n",
    "            print(f\"    PrognozÄ—s ÄÆraÅÅ³: {len(forecast_data)}\")\n",
    "    \n",
    "    # PagrindinÄ—s statistikos\n",
    "    if 'annual_averages' in locals() and annual_averages:\n",
    "        print(f\"\\n TEMPERATÅŖROS STATISTIKA:\")\n",
    "        if 'average_temperature' in annual_averages:\n",
    "            temp_avg = annual_averages['average_temperature']\n",
    "            print(f\"    VidutinÄ— temperatÅ«ra: {temp_avg:.1f}Ā°C\")\n",
    "            \n",
    "            if temp_avg < 0:\n",
    "                print(f\"    Å altas laikotarpis\")\n",
    "            elif temp_avg < 10:\n",
    "                print(f\"    VÄ—sus laikotarpis\")\n",
    "            elif temp_avg < 20:\n",
    "                print(f\"    Å iltas laikotarpis\")\n",
    "            else:\n",
    "                print(f\"    KarÅtas laikotarpis\")\n",
    "    \n",
    "    # Dienos/nakties analizÄ—\n",
    "    if 'day_night_analysis' in locals() and day_night_analysis:\n",
    "        print(f\"\\n DIENOS/NAKTIES SKIRTUMAS:\")\n",
    "        if 'day_night_difference' in day_night_analysis:\n",
    "            diff = day_night_analysis['day_night_difference']\n",
    "            print(f\"    TemperatÅ«ros skirtumas: {diff:.1f}Ā°C\")\n",
    "            \n",
    "            if abs(diff) < 2:\n",
    "                print(f\"    MaÅ¾as dienos/nakties skirtumas\")\n",
    "            elif abs(diff) < 5:\n",
    "                print(f\"    Vidutinis dienos/nakties skirtumas\")\n",
    "            else:\n",
    "                print(f\"    Didelis dienos/nakties skirtumas\")\n",
    "    \n",
    "    # SavaitgaliÅ³ prognozÄ—\n",
    "    if 'weekend_rain' in locals() and weekend_rain:\n",
    "        print(f\"\\n SAVAITGALIÅ² PROGNOZÄ–:\")\n",
    "        if 'rain_probability' in weekend_rain:\n",
    "            prob = weekend_rain['rain_probability']\n",
    "            print(f\"    Lietaus tikimybÄ—: {prob:.1f}%\")\n",
    "            \n",
    "            if prob < 25:\n",
    "                print(f\"    Sausas savaitgalis\")\n",
    "            elif prob < 50:\n",
    "                print(f\"    Gali bÅ«ti lietaus\")\n",
    "            else:\n",
    "                print(f\"    Lietingas savaitgalis\")\n",
    "    \n",
    "    # Interpoliacijos rezultatai\n",
    "    if 'interpolation_stats' in locals() and interpolation_stats.get('interpolated_data') is not None:\n",
    "        print(f\"\\n INTERPOLIACIJOS REZULTATAI:\")\n",
    "        print(f\"    DuomenÅ³ tankumas padidÄ—jo {interpolation_stats['improvement_ratio']:.1f} kartÅ³\")\n",
    "        print(f\"    Metodas: {interpolation_stats['method'].title()}\")\n",
    "        print(f\"    DaÅ¾nis: {interpolation_stats['frequency']}\")\n",
    "    \n",
    "    print(f\"\\n ANALIZÄ– SÄ–KMINGAI BAIGTA!\")\n",
    "    print(f\" Grafikai iÅsaugoti 'plots' kataloge\")\n",
    "    print(f\" DuomenÅ³ Åaltinis: api.meteo.lt\")\n",
    "    \n",
    "else:\n",
    "    print(\" Nepavyko atlikti analizÄ—s  trÅ«ksta duomenÅ³\")\n",
    "\n",
    "print(\"=\"*50)"
   ]
  },
  {
   "cell_type": "code",
   "execution_count": null,
   "id": "ed8339d5",
   "metadata": {},
   "outputs": [
    {
     "name": "stdout",
     "output_type": "stream",
     "text": [
      "š’¾ IÅsaugome analizÄ—s duomenis...\n",
      "ā… AnalizÄ—s suvestinÄ— iÅsaugota: ../data/analysis_summary_notebook.json\n",
      "\n",
      "šˇ‰ Visi duomenys sÄ—kmingai iÅsaugoti!\n"
     ]
    }
   ],
   "source": [
    "# IÅsaugome duomenis eksportavimui\n",
    "print(\" IÅsaugome analizÄ—s duomenis...\")\n",
    "\n",
    "try:\n",
    "    # Sukuriame iÅsaugojimo katalogÄ…\n",
    "    os.makedirs('../data', exist_ok=True)\n",
    "    \n",
    "    # IÅsaugome istorinius duomenis\n",
    "    if historical_data is not None and not historical_data.empty:\n",
    "        historical_data.to_csv('../data/historical_data_notebook.csv')\n",
    "        print(\" Istoriniai duomenys iÅsaugoti: ../data/historical_data_notebook.csv\")\n",
    "    \n",
    "    # IÅsaugome prognozÄ—s duomenis\n",
    "    if forecast_data is not None and not forecast_data.empty:\n",
    "        forecast_data.to_csv('../data/forecast_data_notebook.csv')\n",
    "        print(\" PrognozÄ—s duomenys iÅsaugoti: ../data/forecast_data_notebook.csv\")\n",
    "    \n",
    "    # IÅsaugome interpoliuotus duomenis\n",
    "    if 'interpolated_series' in locals() and interpolated_series is not None:\n",
    "        interpolated_df = interpolated_series.to_frame('interpolated_temperature')\n",
    "        interpolated_df.to_csv('../data/interpolated_temperature_notebook.csv')\n",
    "        print(\" Interpoliuoti duomenys iÅsaugoti: ../data/interpolated_temperature_notebook.csv\")\n",
    "    \n",
    "    # Sukuriame analizÄ—s rezultatÅ³ suvestinÄ™\n",
    "    summary = {\n",
    "        'analysis_timestamp': datetime.now().isoformat(),\n",
    "        'location': weather_api.location_code if 'weather_api' in locals() else 'unknown',\n",
    "        'data_period': f\"{start_date}  {end_date}\" if 'start_date' in locals() else 'unknown',\n",
    "        'historical_records': len(historical_data) if historical_data is not None else 0,\n",
    "        'forecast_records': len(forecast_data) if forecast_data is not None else 0,\n",
    "    }\n",
    "    \n",
    "    # Pridedame analizÄ—s rezultatus jei yra\n",
    "    if 'annual_averages' in locals():\n",
    "        summary['annual_averages'] = annual_averages\n",
    "    if 'day_night_analysis' in locals():\n",
    "        summary['day_night_analysis'] = day_night_analysis\n",
    "    if 'weekend_rain' in locals():\n",
    "        summary['weekend_rain_forecast'] = weekend_rain\n",
    "    if 'interpolation_stats' in locals():\n",
    "        # PaÅaliname pandas Series iÅ statistics (neserijalizable)\n",
    "        clean_stats = {k: v for k, v in interpolation_stats.items() if k != 'interpolated_data'}\n",
    "        summary['interpolation_summary'] = clean_stats\n",
    "    \n",
    "    # IÅsaugome JSON formatu\n",
    "    import json\n",
    "    with open('../data/analysis_summary_notebook.json', 'w', encoding='utf8') as f:\n",
    "        json.dump(summary, f, ensure_ascii=False, indent=2, default=str)\n",
    "    \n",
    "    print(\" AnalizÄ—s suvestinÄ— iÅsaugota: ../data/analysis_summary_notebook.json\")\n",
    "    \n",
    "    print(\"\\n Visi duomenys sÄ—kmingai iÅsaugoti!\")\n",
    "    \n",
    "except Exception as e:\n",
    "    print(f\" Klaida iÅsaugant duomenis: {e}\")"
   ]
  },
  {
   "cell_type": "markdown",
   "id": "bd36059e",
   "metadata": {},
   "source": [
    "\n",
    "\n",
    "## š“‹ Notebook apibendrinimas\n",
    "\n",
    "Å is Jupyter notebook demonstruoja:\n",
    "\n",
    "ā… **API integracijÄ…** su Lietuvos hidrometeorologijos tarnyba  \n",
    "ā… **DuomenÅ³ nuskaitymÄ…** ir apdorojimÄ… su pandas  \n",
    "ā… **StatistinÄ™ analizÄ™** (vidurkiai, dienos/nakties skirtumai)  \n",
    "ā… **DuomenÅ³ vizualizacijÄ…** su matplotlib ir seaborn  \n",
    "ā… **TemperatÅ«ros interpoliacijÄ…** iki aukÅtesnio daÅ¾nio  \n",
    "ā… **MetodÅ³ palyginimÄ…** ir validavimÄ…  \n",
    "ā… **DuomenÅ³ eksportavimÄ…** CSV ir JSON formatais  \n",
    "\n",
    "### š€ Kaip naudoti:\n",
    "1. Ä®sitikinkite kad turite interneto ryÅÄÆ API uÅ¾klausoms\n",
    "2. Paleiskite visas lÄ…steles iÅ eilÄ—s\n",
    "3. PerÅ¾iÅ«rÄ—kite sukurtus grafikus ir analizÄ—s rezultatus\n",
    "4. Eksportuoti duomenys bus `../data/` kataloge\n",
    "\n",
    "### š“ Galimos modifikacijos:\n",
    " Keisti miesto kodÄ… (`location_code`)\n",
    " Koreguoti datos intervalÄ… (`start_date`, `end_date`)\n",
    " Eksperimentuoti su skirtingais interpoliacijos metodais\n",
    " PridÄ—ti papildomus grafikus ar analizÄ—s tipus\n",
    "\n",
    "\n",
    "\n",
    "*Sukurta: **Weather Analysis System** | DuomenÅ³ Åaltinis: **api.meteo.lt***"
   ]
  }
 ],
 "metadata": {
  "kernelspec": {
   "display_name": "base",
   "language": "python",
   "name": "python3"
  },
  "language_info": {
   "codemirror_mode": {
    "name": "ipython",
    "version": 3
   },
   "file_extension": ".py",
   "mimetype": "text/xpython",
   "name": "python",
   "nbconvert_exporter": "python",
   "pygments_lexer": "ipython3",
   "version": "3.12.7"
  }
 },
 "nbformat": 4,
 "nbformat_minor": 5
}
